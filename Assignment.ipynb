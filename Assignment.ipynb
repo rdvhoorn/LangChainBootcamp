{
 "cells": [
  {
   "cell_type": "markdown",
   "metadata": {},
   "source": [
    "### Imports"
   ]
  },
  {
   "cell_type": "code",
   "execution_count": 3,
   "metadata": {},
   "outputs": [],
   "source": [
    "from langchain_google_community import GoogleSearchAPIWrapper\n",
    "from langchain.tools import WikipediaQueryRun\n",
    "from langchain_core.prompts import ChatPromptTemplate, MessagesPlaceholder\n",
    "from langchain.agents.format_scratchpad.openai_tools import format_to_openai_tool_messages\n",
    "from langchain.agents.output_parsers.openai_tools import OpenAIToolsAgentOutputParser\n",
    "from langchain.agents import AgentExecutor\n",
    "from langchain_openai import OpenAI, ChatOpenAI\n",
    "from langchain_core.tools import Tool\n",
    "from langchain_community.utilities import WikipediaAPIWrapper\n",
    "\n",
    "import os"
   ]
  },
  {
   "cell_type": "markdown",
   "metadata": {},
   "source": [
    "# Tiny Hacking Assignment!\n",
    "\n",
    "Now that you have gotten a feeling for what value LangChain can bring you, it is time to get your hands dirty!\n",
    "\n",
    "Your assignment is as follows: Think of a question you would like answered, and try to construct a ReAct agent to solve that question. \n",
    "\n",
    "Example questions:\n",
    "- Trace the development of deep learning architectures from simple perceptrons to complex structures like GPT and BERT. What were the major breakthroughs and challenges at each stage?\n",
    "- Analyze how data science techniques have been used to combat climate change. Include details on specific models and their applications in monitoring, predicting, and mitigating environmental impacts.\n",
    "\n",
    "These questions would require various facts from different wikipedia pages, therewith making an agent an ideal way to answer such questions (if they are prompted correctly)."
   ]
  },
  {
   "cell_type": "markdown",
   "metadata": {},
   "source": [
    "### Let's code!"
   ]
  },
  {
   "cell_type": "code",
   "execution_count": null,
   "metadata": {},
   "outputs": [],
   "source": [
    "os.environ['OPENAI_API_KEY'] = '...'"
   ]
  },
  {
   "cell_type": "code",
   "execution_count": 2,
   "metadata": {},
   "outputs": [],
   "source": [
    "# Initialize the Chat-oriented LLM wrapper with the OpenAI API key.\n",
    "chat_llm = ChatOpenAI(model='gpt-4o')\n",
    "\n",
    "\n",
    "# Initialize the Chat-oriented LLM wrapper with the OpenAI API key.\n",
    "wikipedia_tool = WikipediaQueryRun(api_wrapper=WikipediaAPIWrapper())\n",
    "\n",
    "llm_with_tools = chat_llm.bind_tools([wikipedia_tool])\n",
    "\n",
    "\n",
    "# Initialize the prompt.\n",
    "# For agents, you need to think of how the agent is allowed to 'think'. \n",
    "# Here, this is done by giving the agent access to an 'agent_scratchpad', where it can put all intermediate messages in.\n",
    "initial_prompt = ChatPromptTemplate.from_messages(\n",
    "    [\n",
    "        (\"system\", \"\"\"\n",
    "        <Insert question:>\n",
    "\n",
    "        TOOLS:\n",
    "        google-search\n",
    "\n",
    "        Begin!\n",
    "        {agent_scratchpad}\n",
    "        \"\"\"),\n",
    "    ]\n",
    ")\n",
    "\n",
    "# A helper function to visualize what the agent is actually doing:\n",
    "def input_print(param):\n",
    "    print(\"\\nINPUT:\", param)\n",
    "    return param\n",
    "\n",
    "# Intialize the agent, by chaining together several parts.\n",
    "agent = (\n",
    "    {\n",
    "        \"agent_scratchpad\": lambda x: format_to_openai_tool_messages(x[\"intermediate_steps\"]),\n",
    "        \"print\": lambda x: input_print(x),\n",
    "    }\n",
    "    | initial_prompt                    # The inputs are fed to the prompt.\n",
    "    | llm_with_tools                    # The formatted prompt is handed down to the LLM, which might, or might not, invoke tools.\n",
    "    | OpenAIToolsAgentOutputParser()    # The output of the llm is formatted by a customer output parser which formats the LLM output such that it can be used as input again for new tools.\n",
    ")\n",
    "\n",
    "agent_executor = AgentExecutor(agent=agent, tools=[wikipedia_tool], verbose=True)\n",
    "\n",
    "agent_executor.invoke({})"
   ]
  }
 ],
 "metadata": {
  "kernelspec": {
   "display_name": "LLMstandard",
   "language": "python",
   "name": "python3"
  },
  "language_info": {
   "codemirror_mode": {
    "name": "ipython",
    "version": 3
   },
   "file_extension": ".py",
   "mimetype": "text/x-python",
   "name": "python",
   "nbconvert_exporter": "python",
   "pygments_lexer": "ipython3",
   "version": "3.12.2"
  }
 },
 "nbformat": 4,
 "nbformat_minor": 2
}
